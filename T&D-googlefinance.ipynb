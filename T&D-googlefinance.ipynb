{
 "cells": [
  {
   "cell_type": "code",
   "execution_count": 17,
   "id": "ce473c0d",
   "metadata": {},
   "outputs": [],
   "source": [
    "import requests"
   ]
  },
  {
   "cell_type": "code",
   "execution_count": 33,
   "id": "afac1978",
   "metadata": {},
   "outputs": [],
   "source": [
    "link = 'https://www.google.com/finance/_/GoogleFinanceUi/data/batchexecute?rpcids=HqGpWd%2Cxh8wxf%2CmKsvE%2CSICF5d%2CAiCwsd&source-path=%2Ffinance%2Fquote%2FPETR4%3ABVMF&f.sid=-7615239006443973943&bl=boq_finance-ui_20251010.01_p1&hl=pt&soc-app=162&soc-platform=1&soc-device=1&_reqid=33637096&rt=c'"
   ]
  },
  {
   "cell_type": "code",
   "execution_count": null,
   "id": "7c4a0360",
   "metadata": {},
   "outputs": [],
   "source": [
    "params = {\n",
    "    \n",
    "}"
   ]
  },
  {
   "cell_type": "code",
   "execution_count": 34,
   "id": "ccfb7c22",
   "metadata": {},
   "outputs": [
    {
     "data": {
      "text/plain": [
       "<Response [400]>"
      ]
     },
     "execution_count": 34,
     "metadata": {},
     "output_type": "execute_result"
    }
   ],
   "source": [
    "response = requests.post(link)\n",
    "\n",
    "response"
   ]
  }
 ],
 "metadata": {
  "kernelspec": {
   "display_name": "Python 3",
   "language": "python",
   "name": "python3"
  },
  "language_info": {
   "codemirror_mode": {
    "name": "ipython",
    "version": 3
   },
   "file_extension": ".py",
   "mimetype": "text/x-python",
   "name": "python",
   "nbconvert_exporter": "python",
   "pygments_lexer": "ipython3",
   "version": "3.13.7"
  }
 },
 "nbformat": 4,
 "nbformat_minor": 5
}
